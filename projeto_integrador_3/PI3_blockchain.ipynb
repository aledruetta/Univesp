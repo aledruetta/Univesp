{
 "cells": [
  {
   "cell_type": "markdown",
   "metadata": {},
   "source": [
    "# Projeto Integrador 3. Prova de conceito de uma rede Blockchain\n",
    "\n",
    "### Univesp - Polo Caraguatatuba - Junho 2019"
   ]
  },
  {
   "cell_type": "markdown",
   "metadata": {},
   "source": [
    "---\n",
    "\n",
    "### Requisitos prévios\n",
    "\n",
    "Para executar esse código será necessário instalar:\n",
    "\n",
    "- [Python 3.6](https://www.python.org/) ou superior (de preferência a distribuição [Anaconda](https://www.anaconda.com/));\n",
    "- [Flask 0.12.2](http://flask.pocoo.org/) ou superior.\n",
    "\n",
    "Para testar a API usamos o software [Postman](https://www.getpostman.com/). Mas, devido a sua simplicidade, também poderá ser testada com comandos como `wget`, `curl` ou diretamente no navegador web."
   ]
  },
  {
   "cell_type": "markdown",
   "metadata": {},
   "source": [
    "### Código explicado\n",
    "\n",
    "O primeiro passo será a importação dos módulos que não estão presentes na biblioteca padrão do Python, necessários para a execução do código.\n",
    "\n",
    "- [datetime](https://docs.python.org/3/library/datetime.html), para manipulação de dados sobre tempo e datas.\n",
    "- [hashlib](https://docs.python.org/3/library/hashlib.html), para encriptação dos dados pelo algoritmo SHA256.\n",
    "- [json](https://docs.python.org/3/library/json.html), para manipulação de objetos JSON."
   ]
  },
  {
   "cell_type": "code",
   "execution_count": 1,
   "metadata": {},
   "outputs": [],
   "source": [
    "import datetime\n",
    "import hashlib\n",
    "import json"
   ]
  },
  {
   "cell_type": "markdown",
   "metadata": {},
   "source": [
    "Também vamos precisar importar os objetos `Flask` e `jsonify` do microframework para processar requisições HTML:"
   ]
  },
  {
   "cell_type": "code",
   "execution_count": 2,
   "metadata": {},
   "outputs": [],
   "source": [
    "from flask import Flask, jsonify"
   ]
  },
  {
   "cell_type": "markdown",
   "metadata": {},
   "source": [
    "A classe `Blockchain` define as operações mais básicas, como:\n",
    "\n",
    "- Criação de um novo bloco;\n",
    "- Obter o bloco prévio;\n",
    "- Prova de trabalho (proof of work);\n",
    "- Codificação do bloco pelo algoritmo SHA256;\n",
    "- Validação da cadeia.\n",
    "\n",
    "O objeto `bloco` é um modelo simplificado de um bloco em uma cadeia blockchain. Ele é representado por uma estrutura do tipo dicionário (key, value) com as seguintes chaves:\n",
    "\n",
    "- `index`, o índice que representa a posição do bloco na cadeia;\n",
    "- `timestamp`, com os dados de data e hora fornecidos pelo módulo `datetime`;\n",
    "- `prova`, o resultado da prova de trabalho realizado durante a mineração;\n",
    "- `hash_anterior`, o código hash produto da criptografia do bloco precedente.\n"
   ]
  },
  {
   "cell_type": "code",
   "execution_count": 3,
   "metadata": {},
   "outputs": [],
   "source": [
    "class Blockchain:\n",
    "\n",
    "    def __init__(self):\n",
    "        self.cadeia = []\n",
    "        self.crear_bloco(prova=1, hash_anterior='0')\n",
    "\n",
    "    def crear_bloco(self, prova, hash_anterior):\n",
    "        bloco = {'index': len(self.cadeia) + 1,\n",
    "                 'timestamp': str(datetime.datetime.now()),\n",
    "                 'prova': prova,\n",
    "                 'hash_anterior': hash_anterior}\n",
    "        self.cadeia.append(bloco)\n",
    "        return bloco\n",
    "\n",
    "    def obter_bloco_anterior(self):\n",
    "        return self.cadeia[-1]\n",
    "\n",
    "    def prova_de_trabalho(self, prova_anterior):\n",
    "        nova_prova = 1\n",
    "        checar_prova = False\n",
    "        while checar_prova is False:\n",
    "            hashing = hashlib.sha256(str(nova_prova**2 - prova_anterior**2).encode()).hexdigest()\n",
    "            if hashing[:4] == '0000':\n",
    "                checar_prova = True\n",
    "            else:\n",
    "                nova_prova += 1\n",
    "        return nova_prova\n",
    "    \n",
    "    def hash(self, bloco):\n",
    "        bloco_codificado = json.dumps(bloco, sort_keys=True).encode()\n",
    "        return hashlib.sha256(bloco_codificado).hexdigest()\n",
    "    \n",
    "    def cadeia_validada(self, cadeia):\n",
    "        bloco_previo = cadeia[0]\n",
    "        bloco_index = 1\n",
    "        while bloco_index < len(cadeia):\n",
    "            bloco = cadeia[bloco_index]\n",
    "            if bloco['hash_anterior'] != self.hash(bloco_previo):\n",
    "                return False\n",
    "            prova_anterior = bloco_previo['prova']\n",
    "            prova = bloco['prova']\n",
    "            hashing = hashlib.sha256(str(prova**2 - prova_anterior**2).encode()).hexdigest()\n",
    "            if hashing[:4] != '0000':\n",
    "                return False\n",
    "            bloco_previo = bloco\n",
    "            bloco_index += 1\n",
    "        return True"
   ]
  },
  {
   "cell_type": "markdown",
   "metadata": {},
   "source": [
    "Aqui criaremos o aplicativo web, instanciando a classe `Flask` do micro framework do mesmo nome, e criamos também uma instância da clase `Blockchain`, a qual já tínhamos declarado previamente:"
   ]
  },
  {
   "cell_type": "code",
   "execution_count": null,
   "metadata": {},
   "outputs": [],
   "source": [
    "app = Flask(__name__)\n",
    "blockchain = Blockchain()"
   ]
  },
  {
   "cell_type": "markdown",
   "metadata": {},
   "source": [
    "Na sequência, definimos os end points (API) para o usuário realizar as requisições HTML. Eles são:\n",
    "\n",
    "- `minerar_bloco`, aqui é feita a mineração para a criação do novo bloco por meio da prova de trabalho;\n",
    "- `obter_cadeia`, com esse end point obtemos e visualizamos os dados armazenados na cadeia;\n",
    "- `validar_cadeia`, aqui verificamos se a cadeia não tem sido adulterada."
   ]
  },
  {
   "cell_type": "code",
   "execution_count": null,
   "metadata": {},
   "outputs": [],
   "source": [
    "@app.route('/minerar_bloco', methods=['GET'])\n",
    "def minerar_bloco():\n",
    "    bloco_anterior = blockchain.obter_bloco_anterior()\n",
    "    prova_anterior = bloco_anterior['prova']\n",
    "    prova = blockchain.prova_de_trabalho(prova_anterior)\n",
    "    hash_anterior = blockchain.hash(bloco_anterior)\n",
    "    bloco = blockchain.crear_bloco(prova, hash_anterior)\n",
    "    response = {'message': 'Parabéns, você acabou de minerar um bloco!',\n",
    "                'index': bloco['index'],\n",
    "                'timestamp': bloco['timestamp'],\n",
    "                'prova': bloco['prova'],\n",
    "                'hash_anterior': bloco['hash_anterior']}\n",
    "    return jsonify(response), 200\n",
    "\n",
    "@app.route('/obter_cadeia', methods=['GET'])\n",
    "def obter_cadeia():\n",
    "    response = {'cadeia': blockchain.cadeia,\n",
    "                'cumprimento': len(blockchain.cadeia)}\n",
    "    return jsonify(response), 200\n",
    "\n",
    "@app.route('/validar_cadeia', methods=['GET'])\n",
    "def validar_cadeia():\n",
    "    es_valido = blockchain.cadeia_validada(blockchain.cadeia)\n",
    "    if es_valido:\n",
    "        response = {'message': 'Beleza! O Blockchain está validado.'}\n",
    "    else:\n",
    "        response = {'message': 'Ops, temos um problema aqui. O Blockchain não foi validado...'}\n",
    "    return jsonify(response), 200"
   ]
  },
  {
   "cell_type": "markdown",
   "metadata": {},
   "source": [
    "A continuação executamos o aplicativo no servidor de testes do próprio `Flask`. O servidor receberá as requisições na porta `5000` do `localhost`."
   ]
  },
  {
   "cell_type": "code",
   "execution_count": null,
   "metadata": {},
   "outputs": [
    {
     "name": "stdout",
     "output_type": "stream",
     "text": [
      " * Serving Flask app \"__main__\" (lazy loading)\n",
      " * Environment: production\n",
      "   WARNING: This is a development server. Do not use it in a production deployment.\n",
      "   Use a production WSGI server instead.\n",
      " * Debug mode: off\n"
     ]
    },
    {
     "name": "stderr",
     "output_type": "stream",
     "text": [
      " * Running on http://0.0.0.0:5000/ (Press CTRL+C to quit)\n"
     ]
    }
   ],
   "source": [
    "app.run(host='0.0.0.0', port=5000)"
   ]
  },
  {
   "cell_type": "markdown",
   "metadata": {},
   "source": [
    "As requisições podem ser testadas via navegado web, `wget`, `curl` ou `postman` nas seguintes URL:\n",
    "\n",
    "- [http://localhost:5000/minerar_bloco](http://localhost:5000/minerar_bloco)\n",
    "- [http://localhost:5000/obter_cadeia](http://localhost:5000/obter_cadeia)\n",
    "- [http://localhost:5000/validar_cadeia](http://localhost:5000/validar_cadeia)"
   ]
  }
 ],
 "metadata": {
  "kernelspec": {
   "display_name": "Python 3",
   "language": "python",
   "name": "python3"
  },
  "language_info": {
   "codemirror_mode": {
    "name": "ipython",
    "version": 3
   },
   "file_extension": ".py",
   "mimetype": "text/x-python",
   "name": "python",
   "nbconvert_exporter": "python",
   "pygments_lexer": "ipython3",
   "version": "3.7.3"
  }
 },
 "nbformat": 4,
 "nbformat_minor": 2
}
