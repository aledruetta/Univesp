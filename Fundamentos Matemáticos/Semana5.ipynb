{
 "cells": [
  {
   "cell_type": "code",
   "execution_count": 1,
   "metadata": {},
   "outputs": [],
   "source": [
    "import numpy as np"
   ]
  },
  {
   "cell_type": "markdown",
   "metadata": {},
   "source": [
    "![Semana 5 - 01](Semana5-01.png)"
   ]
  },
  {
   "cell_type": "code",
   "execution_count": 2,
   "metadata": {},
   "outputs": [],
   "source": [
    "def exercicio01():\n",
    "    R = [[0,1],[0,3],[1,2],[2,2],[3,0],[3,1],[3,2],[4,3]]\n",
    "    \n",
    "    shape = (5, 5)\n",
    "    M = np.zeros(shape, dtype=bool)\n",
    "    \n",
    "    for par in R:\n",
    "        M[par[0], par[1]] = True\n",
    "    \n",
    "    produto = M.dot(M)\n",
    "    \n",
    "    print(f'Matriz M:\\n\\n{M}\\n')\n",
    "    print(f'MoM:\\n\\n{produto}\\n')\n",
    "    print(f'R é Transitiva? MoM = M? {(M == produto).all()}')"
   ]
  },
  {
   "cell_type": "code",
   "execution_count": 3,
   "metadata": {},
   "outputs": [
    {
     "name": "stdout",
     "output_type": "stream",
     "text": [
      "Matriz M:\n",
      "\n",
      "[[False  True False  True False]\n",
      " [False False  True False False]\n",
      " [False False  True False False]\n",
      " [ True  True  True False False]\n",
      " [False False False  True False]]\n",
      "\n",
      "MoM:\n",
      "\n",
      "[[ True  True  True False False]\n",
      " [False False  True False False]\n",
      " [False False  True False False]\n",
      " [False  True  True  True False]\n",
      " [ True  True  True False False]]\n",
      "\n",
      "R é Transitiva? MoM = M? False\n"
     ]
    }
   ],
   "source": [
    "exercicio01()"
   ]
  }
 ],
 "metadata": {
  "kernelspec": {
   "display_name": "Python 3",
   "language": "python",
   "name": "python3"
  },
  "language_info": {
   "codemirror_mode": {
    "name": "ipython",
    "version": 3
   },
   "file_extension": ".py",
   "mimetype": "text/x-python",
   "name": "python",
   "nbconvert_exporter": "python",
   "pygments_lexer": "ipython3",
   "version": "3.7.3"
  }
 },
 "nbformat": 4,
 "nbformat_minor": 4
}
