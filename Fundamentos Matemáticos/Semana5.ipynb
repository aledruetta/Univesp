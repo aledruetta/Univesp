{
 "cells": [
  {
   "cell_type": "code",
   "execution_count": 1,
   "metadata": {},
   "outputs": [],
   "source": [
    "import numpy as np"
   ]
  },
  {
   "cell_type": "markdown",
   "metadata": {},
   "source": [
    "!['Semana 5 - 01'](Semana5-01.png)"
   ]
  },
  {
   "cell_type": "code",
   "execution_count": 2,
   "metadata": {},
   "outputs": [],
   "source": [
    "def exercicio01():\n",
    "    R = [[0,1],[0,3],[1,2],[2,2],[3,0],[3,1],[3,2],[4,3]]\n",
    "    \n",
    "    shape = (5, 5)\n",
    "    M = np.zeros(shape, dtype=bool)\n",
    "    \n",
    "    for par in R:\n",
    "        M[par[0], par[1]] = True\n",
    "    \n",
    "    produto = M.dot(M)\n",
    "    comp = (M == produto).all()\n",
    "    \n",
    "    print(f'Matriz M:\\n\\n{M.astype(int)}\\n')\n",
    "    print(f'M o M:\\n\\n{produto.astype(int)}\\n')\n",
    "    print(f'R é Transitiva? M o M = M? {comp}')"
   ]
  },
  {
   "cell_type": "code",
   "execution_count": 3,
   "metadata": {},
   "outputs": [
    {
     "name": "stdout",
     "output_type": "stream",
     "text": [
      "Matriz M:\n",
      "\n",
      "[[0 1 0 1 0]\n",
      " [0 0 1 0 0]\n",
      " [0 0 1 0 0]\n",
      " [1 1 1 0 0]\n",
      " [0 0 0 1 0]]\n",
      "\n",
      "M o M:\n",
      "\n",
      "[[1 1 1 0 0]\n",
      " [0 0 1 0 0]\n",
      " [0 0 1 0 0]\n",
      " [0 1 1 1 0]\n",
      " [1 1 1 0 0]]\n",
      "\n",
      "R é Transitiva? M o M = M? False\n"
     ]
    }
   ],
   "source": [
    "exercicio01()"
   ]
  },
  {
   "cell_type": "markdown",
   "metadata": {},
   "source": [
    "!['Semana 5 exercício 02'](Semana5-02.png)"
   ]
  },
  {
   "cell_type": "code",
   "execution_count": 4,
   "metadata": {},
   "outputs": [],
   "source": [
    "def exercicio02():\n",
    "    Z = [-3, -2, -1, 0, 1, 2, 3]\n",
    "    a = [(x,y) for x in Z for y in Z if x <= y]\n",
    "    zlen = len(Z)\n",
    "    shape = (zlen, zlen)\n",
    "    Ma = np.zeros(shape, dtype=bool)\n",
    "    \n",
    "    for par in a:\n",
    "        Ma[par[0]+3, par[1]+3] = True\n",
    "    \n",
    "    produto = Ma.dot(Ma)\n",
    "    comp = (Ma == produto).all()\n",
    "    \n",
    "    print('Exercício a:\\n')\n",
    "    print(f'R:\\n{a}\\n')\n",
    "    print(f'M:\\n{Ma.astype(int)}\\n')\n",
    "    print(f'M o M:\\n{produto.astype(int)}\\n')\n",
    "    print(f'M Transitiva? M o M = M? {comp}')"
   ]
  },
  {
   "cell_type": "code",
   "execution_count": 5,
   "metadata": {},
   "outputs": [
    {
     "name": "stdout",
     "output_type": "stream",
     "text": [
      "Exercício a:\n",
      "\n",
      "R:\n",
      "[(-3, -3), (-3, -2), (-3, -1), (-3, 0), (-3, 1), (-3, 2), (-3, 3), (-2, -2), (-2, -1), (-2, 0), (-2, 1), (-2, 2), (-2, 3), (-1, -1), (-1, 0), (-1, 1), (-1, 2), (-1, 3), (0, 0), (0, 1), (0, 2), (0, 3), (1, 1), (1, 2), (1, 3), (2, 2), (2, 3), (3, 3)]\n",
      "\n",
      "M:\n",
      "[[1 1 1 1 1 1 1]\n",
      " [0 1 1 1 1 1 1]\n",
      " [0 0 1 1 1 1 1]\n",
      " [0 0 0 1 1 1 1]\n",
      " [0 0 0 0 1 1 1]\n",
      " [0 0 0 0 0 1 1]\n",
      " [0 0 0 0 0 0 1]]\n",
      "\n",
      "M o M:\n",
      "[[1 1 1 1 1 1 1]\n",
      " [0 1 1 1 1 1 1]\n",
      " [0 0 1 1 1 1 1]\n",
      " [0 0 0 1 1 1 1]\n",
      " [0 0 0 0 1 1 1]\n",
      " [0 0 0 0 0 1 1]\n",
      " [0 0 0 0 0 0 1]]\n",
      "\n",
      "M Transitiva? M o M = M? True\n"
     ]
    }
   ],
   "source": [
    "exercicio02()"
   ]
  }
 ],
 "metadata": {
  "kernelspec": {
   "display_name": "Python 3",
   "language": "python",
   "name": "python3"
  },
  "language_info": {
   "codemirror_mode": {
    "name": "ipython",
    "version": 3
   },
   "file_extension": ".py",
   "mimetype": "text/x-python",
   "name": "python",
   "nbconvert_exporter": "python",
   "pygments_lexer": "ipython3",
   "version": "3.7.3"
  }
 },
 "nbformat": 4,
 "nbformat_minor": 4
}
