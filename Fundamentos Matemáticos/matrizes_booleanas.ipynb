{
 "cells": [
  {
   "cell_type": "code",
   "execution_count": 1,
   "metadata": {},
   "outputs": [],
   "source": [
    "import numpy as np"
   ]
  },
  {
   "cell_type": "code",
   "execution_count": 2,
   "metadata": {},
   "outputs": [],
   "source": [
    "def booleanM(R):\n",
    "    \"\"\" Recebe uma relação R e retorna:\n",
    "            - o conjunto A, domínio e imagem da relação binária\n",
    "            - a matriz booleana M\n",
    "    \"\"\"\n",
    "    A = list({subitem for item in R for subitem in item})\n",
    "    A.sort()\n",
    "    shape = (len(A), len(A))\n",
    "    M = np.zeros(shape, dtype=bool)\n",
    "    for a,b in R:\n",
    "        M[A.index(a), A.index(b)] = True\n",
    "    return A, M"
   ]
  },
  {
   "cell_type": "code",
   "execution_count": 3,
   "metadata": {},
   "outputs": [],
   "source": [
    "def printBooleanM(A, M):\n",
    "    \"\"\" Imprime uma representação da matriz booleana M\n",
    "    \"\"\"\n",
    "    lenA = len(A)\n",
    "    h = '  |'\n",
    "    for item in A:\n",
    "        h += f' {item}'\n",
    "    print(h)\n",
    "    print('-' * (2 * lenA + 4))\n",
    "    for i in range(lenA):\n",
    "        line = ''\n",
    "        for j in M[i].astype(int):\n",
    "            line += f' {j}'\n",
    "        print(f'{A[i]} |{line}')"
   ]
  },
  {
   "cell_type": "code",
   "execution_count": 4,
   "metadata": {},
   "outputs": [
    {
     "name": "stdout",
     "output_type": "stream",
     "text": [
      "  | 1 2 3 5 6\n",
      "--------------\n",
      "1 | 1 1 0 1 0\n",
      "2 | 0 0 1 0 0\n",
      "3 | 0 0 0 0 0\n",
      "5 | 0 0 0 0 0\n",
      "6 | 0 0 0 0 1\n"
     ]
    }
   ],
   "source": [
    "R = [(1, 1), (1, 2), (2, 3), (1, 5), (6, 6)]\n",
    "A, M = booleanM(R)\n",
    "printBooleanM(A, M)"
   ]
  },
  {
   "cell_type": "code",
   "execution_count": null,
   "metadata": {},
   "outputs": [],
   "source": []
  }
 ],
 "metadata": {
  "kernelspec": {
   "display_name": "Python 3",
   "language": "python",
   "name": "python3"
  },
  "language_info": {
   "codemirror_mode": {
    "name": "ipython",
    "version": 3
   },
   "file_extension": ".py",
   "mimetype": "text/x-python",
   "name": "python",
   "nbconvert_exporter": "python",
   "pygments_lexer": "ipython3",
   "version": "3.7.3"
  }
 },
 "nbformat": 4,
 "nbformat_minor": 4
}
