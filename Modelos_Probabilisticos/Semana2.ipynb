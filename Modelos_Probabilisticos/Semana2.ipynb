{
 "cells": [
  {
   "cell_type": "code",
   "execution_count": 1,
   "metadata": {},
   "outputs": [],
   "source": [
    "from random import randint\n",
    "from collections import Counter\n",
    "from timeit import timeit"
   ]
  },
  {
   "cell_type": "code",
   "execution_count": 2,
   "metadata": {},
   "outputs": [],
   "source": [
    "def soma_dados(n):\n",
    "    dados = []\n",
    "    for i in range(n):\n",
    "        dados.append(randint(1, 6))\n",
    "    return dados, sum(dados)"
   ]
  },
  {
   "cell_type": "code",
   "execution_count": 3,
   "metadata": {},
   "outputs": [],
   "source": [
    "def experimento(vezes):\n",
    "    for i in range(vezes):\n",
    "        print(f\"\\nExperimento {i + 1}:\")\n",
    "        counter_lst = []\n",
    "        n = 1000000\n",
    "\n",
    "        for j in range(n):\n",
    "            dados, soma = soma_dados(2)\n",
    "            counter_lst.append(soma)\n",
    "\n",
    "            # print(f\"{dados} -> {soma}\")\n",
    "\n",
    "        counter = sorted(Counter(counter_lst).items(), key=lambda t: t[1], reverse=True)\n",
    "        for soma, nro in counter:\n",
    "            if soma == 7 or soma == 6:\n",
    "                print(f\"{soma}\\t{nro*100/n:.2f}%\")"
   ]
  },
  {
   "cell_type": "code",
   "execution_count": 4,
   "metadata": {},
   "outputs": [
    {
     "name": "stdout",
     "output_type": "stream",
     "text": [
      "\n",
      "Experimento 1:\n",
      "7\t16.74%\n",
      "6\t13.82%\n",
      "\n",
      "Experimento 2:\n",
      "7\t16.65%\n",
      "6\t13.83%\n",
      "\n",
      "Experimento 3:\n",
      "7\t16.66%\n",
      "6\t13.84%\n",
      "\n",
      "Experimento 4:\n",
      "7\t16.68%\n",
      "6\t13.87%\n",
      "\n",
      "Experimento 5:\n",
      "7\t16.66%\n",
      "6\t13.92%\n",
      "\n",
      "Tempo execução: 8.752167055001337 segundos\n"
     ]
    }
   ],
   "source": [
    "benchmark = timeit(\"experimento(5)\", setup=\"from __main__ import experimento\", number=1)\n",
    "print(f\"\\nTempo execução: {benchmark} segundos\")"
   ]
  },
  {
   "cell_type": "code",
   "execution_count": null,
   "metadata": {},
   "outputs": [],
   "source": []
  }
 ],
 "metadata": {
  "kernelspec": {
   "display_name": "Python 3",
   "language": "python",
   "name": "python3"
  },
  "language_info": {
   "codemirror_mode": {
    "name": "ipython",
    "version": 3
   },
   "file_extension": ".py",
   "mimetype": "text/x-python",
   "name": "python",
   "nbconvert_exporter": "python",
   "pygments_lexer": "ipython3",
   "version": "3.8.2"
  }
 },
 "nbformat": 4,
 "nbformat_minor": 4
}
