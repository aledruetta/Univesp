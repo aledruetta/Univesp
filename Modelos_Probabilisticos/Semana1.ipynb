{
 "cells": [
  {
   "cell_type": "code",
   "execution_count": 1,
   "metadata": {},
   "outputs": [],
   "source": [
    "import random"
   ]
  },
  {
   "cell_type": "code",
   "execution_count": 2,
   "metadata": {},
   "outputs": [],
   "source": [
    "def experimento1(n):\n",
    "    E = list(\"c\" * 7 + \"k\" * 3)\n",
    "    \n",
    "    c = k = 0\n",
    "    for i in range(n):        \n",
    "        e = random.choice(E)\n",
    "        if e == \"c\":\n",
    "            c += 1\n",
    "        else:\n",
    "            k += 1\n",
    "            \n",
    "    t = c + k\n",
    "    \n",
    "    print(f\"{t:10} {c/t:10.2f} {k/t:10.2f} {(c/t - 0.7)*(1000/7):10.2f}% {(k/t - 0.3)*(1000/3):10.2f}%\")"
   ]
  },
  {
   "cell_type": "code",
   "execution_count": 3,
   "metadata": {},
   "outputs": [
    {
     "name": "stdout",
     "output_type": "stream",
     "text": [
      "         5       0.80       0.20      14.29%     -33.33%\n",
      "        25       0.68       0.32      -2.86%       6.67%\n",
      "       125       0.72       0.28       2.86%      -6.67%\n",
      "       625       0.71       0.29       0.80%      -1.87%\n",
      "      3125       0.70       0.30       0.48%      -1.12%\n",
      "     15625       0.70       0.30      -0.61%       1.42%\n",
      "     78125       0.70       0.30       0.09%      -0.20%\n",
      "    390625       0.70       0.30      -0.03%       0.07%\n",
      "   1953125       0.70       0.30       0.03%      -0.06%\n"
     ]
    }
   ],
   "source": [
    "for i in range(1, 10):\n",
    "    experimento1(5**i)"
   ]
  },
  {
   "cell_type": "markdown",
   "metadata": {},
   "source": [
    "Exercício 2 apóio Semana 1"
   ]
  },
  {
   "cell_type": "code",
   "execution_count": 4,
   "metadata": {},
   "outputs": [],
   "source": [
    "from random import randrange\n",
    "\n",
    "def tres_cartas_ouro(n):\n",
    "    count = 0\n",
    "\n",
    "    for i in range(n):\n",
    "        baralho = list(\"abcd\" * 13)\n",
    "        ouro = True\n",
    "        for j in range(3):\n",
    "            if baralho.pop(randrange(0, 51 - j)) != \"a\":\n",
    "                ouro = False\n",
    "                break\n",
    "        if ouro:\n",
    "            count += 1\n",
    "    \n",
    "    print(count / n)"
   ]
  },
  {
   "cell_type": "code",
   "execution_count": 5,
   "metadata": {},
   "outputs": [
    {
     "name": "stdout",
     "output_type": "stream",
     "text": [
      "0.01371\n",
      "0.01319\n",
      "0.01355\n",
      "0.01343\n",
      "0.01376\n",
      "0.01387\n",
      "0.01372\n",
      "0.01388\n",
      "0.01388\n",
      "0.01322\n"
     ]
    }
   ],
   "source": [
    "for i in range(10):\n",
    "    tres_cartas_ouro(100000)"
   ]
  }
 ],
 "metadata": {
  "kernelspec": {
   "display_name": "Python 3",
   "language": "python",
   "name": "python3"
  },
  "language_info": {
   "codemirror_mode": {
    "name": "ipython",
    "version": 3
   },
   "file_extension": ".py",
   "mimetype": "text/x-python",
   "name": "python",
   "nbconvert_exporter": "python",
   "pygments_lexer": "ipython3",
   "version": "3.8.2"
  }
 },
 "nbformat": 4,
 "nbformat_minor": 4
}
