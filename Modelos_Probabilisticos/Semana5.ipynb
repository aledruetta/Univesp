{
 "cells": [
  {
   "cell_type": "markdown",
   "metadata": {},
   "source": [
    "# Passeio aleatório"
   ]
  },
  {
   "cell_type": "code",
   "execution_count": 1,
   "metadata": {},
   "outputs": [],
   "source": [
    "from random import choice\n",
    "from math import floor"
   ]
  },
  {
   "cell_type": "code",
   "execution_count": 4,
   "metadata": {},
   "outputs": [
    {
     "name": "stdout",
     "output_type": "stream",
     "text": [
      "              o\n",
      "             o\n",
      "            o\n",
      "             o\n",
      "              o\n",
      "             o\n",
      "            o\n",
      "           o\n",
      "          o\n",
      "         o\n",
      "          o\n",
      "         o\n",
      "          o\n",
      "           o\n",
      "            o\n",
      "           o\n",
      "            o\n",
      "             o\n",
      "              o\n",
      "               o\n",
      "                o\n",
      "               o\n",
      "              o\n",
      "               o\n",
      "                o\n",
      "               o\n",
      "                o\n",
      "                 o\n",
      "                  o\n",
      "                 o\n",
      "                o\n",
      "                 o\n",
      "                  o\n",
      "                   o\n",
      "                    o\n",
      "                     o\n",
      "                      o\n",
      "                     o\n",
      "                    o\n",
      "                   o\n",
      "                  o\n",
      "                   o\n",
      "                  o\n",
      "                   o\n",
      "                    o\n",
      "                     o\n",
      "                      o\n",
      "                       o\n",
      "                      o\n",
      "                     o\n"
     ]
    }
   ],
   "source": [
    "def markov_voltando_do_buteco(width, height):\n",
    "    x = floor(width / 2)\n",
    "\n",
    "    for i in range(height):\n",
    "        x += choice([-1, 1])\n",
    "        print(x * \" \" + \"o\")\n",
    "\n",
    "markov_voltando_do_buteco(30, 50)"
   ]
  }
 ],
 "metadata": {
  "kernelspec": {
   "display_name": "Python 3",
   "language": "python",
   "name": "python3"
  },
  "language_info": {
   "codemirror_mode": {
    "name": "ipython",
    "version": 3
   },
   "file_extension": ".py",
   "mimetype": "text/x-python",
   "name": "python",
   "nbconvert_exporter": "python",
   "pygments_lexer": "ipython3",
   "version": "3.8.2"
  }
 },
 "nbformat": 4,
 "nbformat_minor": 4
}
