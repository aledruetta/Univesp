{
 "cells": [
  {
   "cell_type": "code",
   "execution_count": 32,
   "metadata": {},
   "outputs": [
    {
     "name": "stdout",
     "output_type": "stream",
     "text": [
      "['b', 'b', 'b', 'b', 'p', 'p', 'p', 'v', 'v', 'v', 'v', 'v'] \n",
      "\n",
      "\n",
      "Experimento 1 (1000000 vezes):\n",
      "\n",
      "X=0: 0.340741\n",
      "X=1: 0.486119\n",
      "X=2: 0.17314\n",
      "\n",
      "Experimento 2 (1000000 vezes):\n",
      "\n",
      "X=0: 0.339896\n",
      "X=1: 0.486561\n",
      "X=2: 0.173543\n",
      "\n",
      "Experimento 3 (1000000 vezes):\n",
      "\n",
      "X=0: 0.339894\n",
      "X=1: 0.486157\n",
      "X=2: 0.173949\n",
      "\n",
      "Experimento 4 (1000000 vezes):\n",
      "\n",
      "X=0: 0.340251\n",
      "X=1: 0.486403\n",
      "X=2: 0.173346\n",
      "\n",
      "Experimento 5 (1000000 vezes):\n",
      "\n",
      "X=0: 0.340532\n",
      "X=1: 0.486495\n",
      "X=2: 0.172973\n"
     ]
    }
   ],
   "source": [
    "from random import choice\n",
    "from collections import Counter\n",
    "\n",
    "bolas = list(\"bbbbpppvvvvv\")\n",
    "print(bolas, '\\n')\n",
    "\n",
    "def quantidade_de_bolas_vermelhas(n, m):\n",
    "    for i in range(n):\n",
    "        eventos = []\n",
    "        \n",
    "        print(f\"\\nExperimento {i+1} ({10**m} vezes):\\n\")\n",
    "        \n",
    "        eventos = ((choice(bolas), choice(bolas)) for i in range(10**m))\n",
    "\n",
    "        count = Counter(eventos)\n",
    "        total = sum(count.values())\n",
    "        # print(count)\n",
    "\n",
    "        print(f\"X=0: {(count[('b', 'b')] + count['p', 'p'] + count['b', 'p'] + count['p', 'b']) / total}\")\n",
    "        print(f\"X=1: {(count[('v', 'b')] + count['v', 'p'] + count['b', 'v'] + count['p', 'v']) / total}\")\n",
    "        print(f\"X=2: {count[('v', 'v')] / total}\")\n",
    "\n",
    "quantidade_de_bolas_vermelhas(5, 6)"
   ]
  },
  {
   "cell_type": "code",
   "execution_count": null,
   "metadata": {},
   "outputs": [],
   "source": []
  }
 ],
 "metadata": {
  "kernelspec": {
   "display_name": "Python 3",
   "language": "python",
   "name": "python3"
  },
  "language_info": {
   "codemirror_mode": {
    "name": "ipython",
    "version": 3
   },
   "file_extension": ".py",
   "mimetype": "text/x-python",
   "name": "python",
   "nbconvert_exporter": "python",
   "pygments_lexer": "ipython3",
   "version": "3.8.2"
  }
 },
 "nbformat": 4,
 "nbformat_minor": 4
}
