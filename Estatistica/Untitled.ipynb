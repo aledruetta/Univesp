{
 "cells": [
  {
   "cell_type": "code",
   "execution_count": 36,
   "metadata": {},
   "outputs": [],
   "source": [
    "import numpy as np\n",
    "import math"
   ]
  },
  {
   "cell_type": "code",
   "execution_count": 5,
   "metadata": {},
   "outputs": [],
   "source": [
    "def check(X, Px):\n",
    "    if sum(Px) == 1 and len(X) == len(Px):\n",
    "        return True\n",
    "    return False"
   ]
  },
  {
   "cell_type": "code",
   "execution_count": 6,
   "metadata": {},
   "outputs": [],
   "source": [
    "def E(X, Px):\n",
    "    acum = 0\n",
    "    for x, p in zip(X, Px):\n",
    "        acum += x * p\n",
    "    return acum"
   ]
  },
  {
   "cell_type": "code",
   "execution_count": 30,
   "metadata": {},
   "outputs": [],
   "source": [
    "def Var(X, Px, esp):\n",
    "    acum = 0\n",
    "    for x, p in zip(X, Px):\n",
    "        acum += (x - esp)**2 * p\n",
    "    return acum"
   ]
  },
  {
   "cell_type": "code",
   "execution_count": 40,
   "metadata": {},
   "outputs": [],
   "source": [
    "def Cov(var):\n",
    "    return math.sqrt(var)"
   ]
  },
  {
   "cell_type": "code",
   "execution_count": 47,
   "metadata": {},
   "outputs": [],
   "source": [
    "def exp(X, Px):\n",
    "    if not check(X, Px):\n",
    "        print(\"Dados inválidos!\")\n",
    "        return\n",
    "    \n",
    "    esp = E(X, Px)\n",
    "    var = Var(X, Px, esp)\n",
    "    cov = Cov(var)\n",
    "    \n",
    "    print(f\"E(X) = {esp:.2}\")\n",
    "    print(f\"Var(X) = {var:.2}\")\n",
    "    print(f\"Cov(X) = {cov:.2}\")"
   ]
  },
  {
   "cell_type": "code",
   "execution_count": 48,
   "metadata": {},
   "outputs": [
    {
     "name": "stdout",
     "output_type": "stream",
     "text": [
      "E(X) = 2.6\n",
      "Var(X) = 0.84\n",
      "Cov(X) = 0.92\n"
     ]
    }
   ],
   "source": [
    "exp(X=[1, 2, 3, 4], Px=[0.1, 0.4, 0.3, 0.2])"
   ]
  },
  {
   "cell_type": "code",
   "execution_count": 50,
   "metadata": {},
   "outputs": [
    {
     "name": "stdout",
     "output_type": "stream",
     "text": [
      "E(X) = 2.5\n",
      "Var(X) = 1.2\n",
      "Cov(X) = 1.1\n"
     ]
    }
   ],
   "source": [
    "exp(X=[1, 2, 3, 4], Px=[0.25, 0.25, 0.25, 0.25])"
   ]
  },
  {
   "cell_type": "code",
   "execution_count": 51,
   "metadata": {},
   "outputs": [
    {
     "name": "stdout",
     "output_type": "stream",
     "text": [
      "E(X) = 3.4\n",
      "Var(X) = 1.0\n",
      "Cov(X) = 1.0\n"
     ]
    }
   ],
   "source": [
    "exp(X=[1, 2, 3, 4], Px=[0.1, 0.1, 0.1, 0.7])"
   ]
  }
 ],
 "metadata": {
  "kernelspec": {
   "display_name": "Python 3",
   "language": "python",
   "name": "python3"
  },
  "language_info": {
   "codemirror_mode": {
    "name": "ipython",
    "version": 3
   },
   "file_extension": ".py",
   "mimetype": "text/x-python",
   "name": "python",
   "nbconvert_exporter": "python",
   "pygments_lexer": "ipython3",
   "version": "3.8.2"
  }
 },
 "nbformat": 4,
 "nbformat_minor": 4
}
