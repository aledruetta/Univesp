{
 "cells": [
  {
   "cell_type": "code",
   "execution_count": 9,
   "metadata": {},
   "outputs": [],
   "source": [
    "import numpy as np\n",
    "from sympy import *\n",
    "\n",
    "init_printing(use_unicode=true)\n",
    "\n",
    "x, y, z = symbols('x y z')"
   ]
  },
  {
   "cell_type": "markdown",
   "metadata": {},
   "source": [
    "Funcão f(x)"
   ]
  },
  {
   "cell_type": "code",
   "execution_count": 10,
   "metadata": {},
   "outputs": [
    {
     "data": {
      "image/png": "[encoded data removed]",
      "text/latex": [
       "$\\displaystyle \\frac{x^{3} + 1}{x^{3} - 1}$"
      ],
      "text/plain": [
       " 3    \n",
       "x  + 1\n",
       "──────\n",
       " 3    \n",
       "x  - 1"
      ]
     },
     "execution_count": 10,
     "metadata": {},
     "output_type": "execute_result"
    }
   ],
   "source": [
    "f = (x**3 + 1) / (x**3 - 1)\n",
    "f"
   ]
  },
  {
   "cell_type": "markdown",
   "metadata": {},
   "source": [
    "Derivada primeira de f(x)"
   ]
  },
  {
   "cell_type": "code",
   "execution_count": 21,
   "metadata": {},
   "outputs": [
    {
     "data": {
      "image/png": "[encoded data removed]",
      "text/latex": [
       "$\\displaystyle \\frac{3 x^{2}}{x^{3} - 1} - \\frac{3 x^{2} \\left(x^{3} + 1\\right)}{\\left(x^{3} - 1\\right)^{2}}$"
      ],
      "text/plain": [
       "    2       2 ⎛ 3    ⎞\n",
       " 3⋅x     3⋅x ⋅⎝x  + 1⎠\n",
       "────── - ─────────────\n",
       " 3                 2  \n",
       "x  - 1     ⎛ 3    ⎞   \n",
       "           ⎝x  - 1⎠   "
      ]
     },
     "execution_count": 21,
     "metadata": {},
     "output_type": "execute_result"
    }
   ],
   "source": [
    "df1 = diff(f, x)\n",
    "df1"
   ]
  },
  {
   "cell_type": "markdown",
   "metadata": {},
   "source": [
    "Derivada segunda de f(x)"
   ]
  },
  {
   "cell_type": "code",
   "execution_count": 13,
   "metadata": {},
   "outputs": [
    {
     "data": {
      "image/png": "[encoded data removed]",
      "text/latex": [
       "$\\displaystyle - \\frac{18 x^{4}}{\\left(x^{3} - 1\\right)^{2}} + \\frac{18 x^{4} \\left(x^{3} + 1\\right)}{\\left(x^{3} - 1\\right)^{3}} + \\frac{6 x}{x^{3} - 1} - \\frac{6 x \\left(x^{3} + 1\\right)}{\\left(x^{3} - 1\\right)^{2}}$"
      ],
      "text/plain": [
       "        4         4 ⎛ 3    ⎞                ⎛ 3    ⎞\n",
       "    18⋅x      18⋅x ⋅⎝x  + 1⎠    6⋅x     6⋅x⋅⎝x  + 1⎠\n",
       "- ───────── + ────────────── + ────── - ────────────\n",
       "          2             3       3                2  \n",
       "  ⎛ 3    ⎞      ⎛ 3    ⎞       x  - 1    ⎛ 3    ⎞   \n",
       "  ⎝x  - 1⎠      ⎝x  - 1⎠                 ⎝x  - 1⎠   "
      ]
     },
     "execution_count": 13,
     "metadata": {},
     "output_type": "execute_result"
    }
   ],
   "source": [
    "df2 = diff(df, x)\n",
    "df2"
   ]
  },
  {
   "cell_type": "code",
   "execution_count": 15,
   "metadata": {},
   "outputs": [
    {
     "data": {
      "image/png": "[encoded data removed]",
      "text/latex": [
       "$\\displaystyle 1$"
      ],
      "text/plain": [
       "1"
      ]
     },
     "execution_count": 15,
     "metadata": {},
     "output_type": "execute_result"
    }
   ],
   "source": [
    "limit(f, x, oo)"
   ]
  },
  {
   "cell_type": "code",
   "execution_count": 16,
   "metadata": {},
   "outputs": [
    {
     "data": {
      "image/png": "[encoded data removed]",
      "text/latex": [
       "$\\displaystyle 1$"
      ],
      "text/plain": [
       "1"
      ]
     },
     "execution_count": 16,
     "metadata": {},
     "output_type": "execute_result"
    }
   ],
   "source": [
    "limit(f, x, -oo)"
   ]
  },
  {
   "cell_type": "code",
   "execution_count": 17,
   "metadata": {},
   "outputs": [
    {
     "data": {
      "image/png": "[encoded data removed]",
      "text/latex": [
       "$\\displaystyle \\left[ -1, \\  \\frac{1}{2} - \\frac{\\sqrt{3} i}{2}, \\  \\frac{1}{2} + \\frac{\\sqrt{3} i}{2}\\right]$"
      ],
      "text/plain": [
       "⎡    1   √3⋅ⅈ  1   √3⋅ⅈ⎤\n",
       "⎢-1, ─ - ────, ─ + ────⎥\n",
       "⎣    2    2    2    2  ⎦"
      ]
     },
     "execution_count": 17,
     "metadata": {},
     "output_type": "execute_result"
    }
   ],
   "source": [
    "solve(f, x)"
   ]
  },
  {
   "cell_type": "code",
   "execution_count": 18,
   "metadata": {},
   "outputs": [
    {
     "data": {
      "image/png": "[encoded data removed]",
      "text/latex": [
       "$\\displaystyle \\left[ 0\\right]$"
      ],
      "text/plain": [
       "[0]"
      ]
     },
     "execution_count": 18,
     "metadata": {},
     "output_type": "execute_result"
    }
   ],
   "source": [
    "solve(df, x)"
   ]
  },
  {
   "cell_type": "code",
   "execution_count": 19,
   "metadata": {},
   "outputs": [
    {
     "data": {
      "image/png": "[encoded data removed]",
      "text/latex": [
       "$\\displaystyle \\left[ 0, \\  - \\frac{2^{\\frac{2}{3}}}{2}, \\  \\frac{2^{\\frac{2}{3}}}{4} - \\frac{2^{\\frac{2}{3}} \\sqrt{3} i}{4}, \\  \\frac{2^{\\frac{2}{3}}}{4} + \\frac{2^{\\frac{2}{3}} \\sqrt{3} i}{4}\\right]$"
      ],
      "text/plain": [
       "⎡     2/3    2/3    2/3        2/3    2/3     ⎤\n",
       "⎢   -2      2      2   ⋅√3⋅ⅈ  2      2   ⋅√3⋅ⅈ⎥\n",
       "⎢0, ──────, ──── - ─────────, ──── + ─────────⎥\n",
       "⎣     2      4         4       4         4    ⎦"
      ]
     },
     "execution_count": 19,
     "metadata": {},
     "output_type": "execute_result"
    }
   ],
   "source": [
    "solve(df2, x)"
   ]
  },
  {
   "cell_type": "code",
   "execution_count": null,
   "metadata": {},
   "outputs": [],
   "source": []
  }
 ],
 "metadata": {
  "kernelspec": {
   "display_name": "Python 3",
   "language": "python",
   "name": "python3"
  },
  "language_info": {
   "codemirror_mode": {
    "name": "ipython",
    "version": 3
   },
   "file_extension": ".py",
   "mimetype": "text/x-python",
   "name": "python",
   "nbconvert_exporter": "python",
   "pygments_lexer": "ipython3",
   "version": "3.8.2"
  }
 },
 "nbformat": 4,
 "nbformat_minor": 4
}
