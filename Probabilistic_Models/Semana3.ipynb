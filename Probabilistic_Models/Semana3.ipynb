{
 "cells": [
  {
   "cell_type": "code",
   "execution_count": 1,
   "metadata": {},
   "outputs": [
    {
     "name": "stdout",
     "output_type": "stream",
     "text": [
      "['b', 'b', 'b', 'b', 'p', 'p', 'p', 'v', 'v', 'v', 'v', 'v'] \n",
      "\n",
      "\n",
      "Experimento 1 (1000000 vezes):\n",
      "\n",
      "X=0: 0.340538\n",
      "X=1: 0.48557\n",
      "X=2: 0.173892\n",
      "\n",
      "Experimento 2 (1000000 vezes):\n",
      "\n",
      "X=0: 0.340919\n",
      "X=1: 0.48627\n",
      "X=2: 0.172811\n",
      "\n",
      "Experimento 3 (1000000 vezes):\n",
      "\n",
      "X=0: 0.340832\n",
      "X=1: 0.485136\n",
      "X=2: 0.174032\n",
      "\n",
      "Experimento 4 (1000000 vezes):\n",
      "\n",
      "X=0: 0.340152\n",
      "X=1: 0.486008\n",
      "X=2: 0.17384\n",
      "\n",
      "Experimento 5 (1000000 vezes):\n",
      "\n",
      "X=0: 0.33971\n",
      "X=1: 0.486756\n",
      "X=2: 0.173534\n"
     ]
    }
   ],
   "source": [
    "from random import choice\n",
    "from collections import Counter\n",
    "\n",
    "bolas = list(\"bbbbpppvvvvv\")\n",
    "print(bolas, '\\n')\n",
    "\n",
    "def quantidade_de_bolas_vermelhas(n, m):\n",
    "    for i in range(n):\n",
    "        eventos = []\n",
    "        \n",
    "        print(f\"\\nExperimento {i+1} ({10**m} vezes):\\n\")\n",
    "        \n",
    "        eventos = ((choice(bolas), choice(bolas)) for i in range(10**m))\n",
    "\n",
    "        count = Counter(eventos)\n",
    "        total = sum(count.values())\n",
    "        # print(count)\n",
    "\n",
    "        print(f\"X=0: {(count[('b', 'b')] + count['p', 'p'] + count['b', 'p'] + count['p', 'b']) / total}\")\n",
    "        print(f\"X=1: {(count[('v', 'b')] + count['v', 'p'] + count['b', 'v'] + count['p', 'v']) / total}\")\n",
    "        print(f\"X=2: {count[('v', 'v')] / total}\")\n",
    "\n",
    "quantidade_de_bolas_vermelhas(5, 6)"
   ]
  },
  {
   "cell_type": "code",
   "execution_count": null,
   "metadata": {},
   "outputs": [],
   "source": []
  }
 ],
 "metadata": {
  "kernelspec": {
   "display_name": "Python 3",
   "language": "python",
   "name": "python3"
  },
  "language_info": {
   "codemirror_mode": {
    "name": "ipython",
    "version": 3
   },
   "file_extension": ".py",
   "mimetype": "text/x-python",
   "name": "python",
   "nbconvert_exporter": "python",
   "pygments_lexer": "ipython3",
   "version": "3.8.2"
  }
 },
 "nbformat": 4,
 "nbformat_minor": 4
}
