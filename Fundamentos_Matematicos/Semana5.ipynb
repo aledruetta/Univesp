{
 "cells": [
  {
   "cell_type": "code",
   "execution_count": 1,
   "metadata": {},
   "outputs": [],
   "source": [
    "import numpy as np"
   ]
  },
  {
   "cell_type": "markdown",
   "metadata": {},
   "source": [
    "!['Semana 5 - 01'](Semana5-01.png)"
   ]
  },
  {
   "cell_type": "code",
   "execution_count": 2,
   "metadata": {},
   "outputs": [],
   "source": [
    "def exercicio01():\n",
    "    R = [[0,1],[0,3],[1,2],[2,2],[3,0],[3,1],[3,2],[4,3]]\n",
    "    \n",
    "    shape = (5, 5)\n",
    "    M = np.zeros(shape, dtype=bool)\n",
    "    \n",
    "    for x,y in R:\n",
    "        M[x, y] = True\n",
    "    \n",
    "    produto = M.dot(M)\n",
    "    comp = (M == produto).all()\n",
    "    \n",
    "    print(f'Matriz M:\\n\\n{M.astype(int)}\\n')\n",
    "    print(f'Composição M o M:\\n\\n{produto.astype(int)}\\n')\n",
    "    print(f'R é Transitiva? M o M = M? {comp}')"
   ]
  },
  {
   "cell_type": "code",
   "execution_count": 3,
   "metadata": {},
   "outputs": [
    {
     "name": "stdout",
     "output_type": "stream",
     "text": [
      "Matriz M:\n",
      "\n",
      "[[0 1 0 1 0]\n",
      " [0 0 1 0 0]\n",
      " [0 0 1 0 0]\n",
      " [1 1 1 0 0]\n",
      " [0 0 0 1 0]]\n",
      "\n",
      "Composição M o M:\n",
      "\n",
      "[[1 1 1 0 0]\n",
      " [0 0 1 0 0]\n",
      " [0 0 1 0 0]\n",
      " [0 1 1 1 0]\n",
      " [1 1 1 0 0]]\n",
      "\n",
      "R é Transitiva? M o M = M? False\n"
     ]
    }
   ],
   "source": [
    "exercicio01()"
   ]
  },
  {
   "cell_type": "markdown",
   "metadata": {},
   "source": [
    "!['Semana 5 exercício 02'](Semana5-02.png)"
   ]
  },
  {
   "cell_type": "code",
   "execution_count": 4,
   "metadata": {},
   "outputs": [],
   "source": [
    "def exercicio02():\n",
    "    offset = 5\n",
    "    Z = list(range(-offset, 0)) + list(range(offset+1))\n",
    "    zlen = len(Z)\n",
    "    shape = (zlen, zlen)\n",
    "    \n",
    "    # Exercício a\n",
    "    \n",
    "    Ma = np.zeros(shape, dtype=bool)\n",
    "    Ra = [(x,y) for x in Z for y in Z if x <= y]\n",
    "    for x,y in Ra:\n",
    "        Ma[x+offset, y+offset] = True\n",
    "    \n",
    "    produto = Ma.dot(Ma)\n",
    "    comp = (Ma == produto).all()\n",
    "    \n",
    "    print('===== Exercício a: =====\\n')\n",
    "    print(f'Conjunto Z:\\n\\n{Z}\\n')\n",
    "    print(f'Relação R:\\n\\n{Ra}\\n')\n",
    "    print(f'Matriz M:\\n\\n{Ma.astype(int)}\\n')\n",
    "    print(f'Composição M o M:\\n\\n{produto.astype(int)}\\n')\n",
    "    print(f'M é Transitiva? M o M = M? {comp}\\n\\n')\n",
    "    \n",
    "    # Exercício b\n",
    "    \n",
    "    Mb = np.zeros(shape, dtype=bool)\n",
    "    Rb = [(x,x ** 2) for x in Z]\n",
    "    for x,y in Rb:\n",
    "        Mb[x+offset, int(np.sqrt(y))] = True\n",
    "    \n",
    "    produto = Mb.dot(Mb)\n",
    "    comp = (Mb == produto).all()\n",
    "    \n",
    "    print('===== Exercício b: =====\\n')\n",
    "    print(f'Conjunto Z:\\n\\n{Z}\\n')\n",
    "    print(f'Relação R:\\n\\n{Rb}\\n')\n",
    "    print(f'Matriz M:\\n\\n{Mb.astype(int)}\\n')\n",
    "    print(f'Composição M o M:\\n\\n{produto.astype(int)}\\n')\n",
    "    print(f'M é Transitiva? M o M = M? {comp}')"
   ]
  },
  {
   "cell_type": "code",
   "execution_count": 5,
   "metadata": {},
   "outputs": [
    {
     "name": "stdout",
     "output_type": "stream",
     "text": [
      "===== Exercício a: =====\n",
      "\n",
      "Conjunto Z:\n",
      "\n",
      "[-5, -4, -3, -2, -1, 0, 1, 2, 3, 4, 5]\n",
      "\n",
      "Relação R:\n",
      "\n",
      "[(-5, -5), (-5, -4), (-5, -3), (-5, -2), (-5, -1), (-5, 0), (-5, 1), (-5, 2), (-5, 3), (-5, 4), (-5, 5), (-4, -4), (-4, -3), (-4, -2), (-4, -1), (-4, 0), (-4, 1), (-4, 2), (-4, 3), (-4, 4), (-4, 5), (-3, -3), (-3, -2), (-3, -1), (-3, 0), (-3, 1), (-3, 2), (-3, 3), (-3, 4), (-3, 5), (-2, -2), (-2, -1), (-2, 0), (-2, 1), (-2, 2), (-2, 3), (-2, 4), (-2, 5), (-1, -1), (-1, 0), (-1, 1), (-1, 2), (-1, 3), (-1, 4), (-1, 5), (0, 0), (0, 1), (0, 2), (0, 3), (0, 4), (0, 5), (1, 1), (1, 2), (1, 3), (1, 4), (1, 5), (2, 2), (2, 3), (2, 4), (2, 5), (3, 3), (3, 4), (3, 5), (4, 4), (4, 5), (5, 5)]\n",
      "\n",
      "Matriz M:\n",
      "\n",
      "[[1 1 1 1 1 1 1 1 1 1 1]\n",
      " [0 1 1 1 1 1 1 1 1 1 1]\n",
      " [0 0 1 1 1 1 1 1 1 1 1]\n",
      " [0 0 0 1 1 1 1 1 1 1 1]\n",
      " [0 0 0 0 1 1 1 1 1 1 1]\n",
      " [0 0 0 0 0 1 1 1 1 1 1]\n",
      " [0 0 0 0 0 0 1 1 1 1 1]\n",
      " [0 0 0 0 0 0 0 1 1 1 1]\n",
      " [0 0 0 0 0 0 0 0 1 1 1]\n",
      " [0 0 0 0 0 0 0 0 0 1 1]\n",
      " [0 0 0 0 0 0 0 0 0 0 1]]\n",
      "\n",
      "Composição M o M:\n",
      "\n",
      "[[1 1 1 1 1 1 1 1 1 1 1]\n",
      " [0 1 1 1 1 1 1 1 1 1 1]\n",
      " [0 0 1 1 1 1 1 1 1 1 1]\n",
      " [0 0 0 1 1 1 1 1 1 1 1]\n",
      " [0 0 0 0 1 1 1 1 1 1 1]\n",
      " [0 0 0 0 0 1 1 1 1 1 1]\n",
      " [0 0 0 0 0 0 1 1 1 1 1]\n",
      " [0 0 0 0 0 0 0 1 1 1 1]\n",
      " [0 0 0 0 0 0 0 0 1 1 1]\n",
      " [0 0 0 0 0 0 0 0 0 1 1]\n",
      " [0 0 0 0 0 0 0 0 0 0 1]]\n",
      "\n",
      "M é Transitiva? M o M = M? True\n",
      "\n",
      "\n",
      "===== Exercício b: =====\n",
      "\n",
      "Conjunto Z:\n",
      "\n",
      "[-5, -4, -3, -2, -1, 0, 1, 2, 3, 4, 5]\n",
      "\n",
      "Relação R:\n",
      "\n",
      "[(-5, 25), (-4, 16), (-3, 9), (-2, 4), (-1, 1), (0, 0), (1, 1), (2, 4), (3, 9), (4, 16), (5, 25)]\n",
      "\n",
      "Matriz M:\n",
      "\n",
      "[[0 0 0 0 0 1 0 0 0 0 0]\n",
      " [0 0 0 0 1 0 0 0 0 0 0]\n",
      " [0 0 0 1 0 0 0 0 0 0 0]\n",
      " [0 0 1 0 0 0 0 0 0 0 0]\n",
      " [0 1 0 0 0 0 0 0 0 0 0]\n",
      " [1 0 0 0 0 0 0 0 0 0 0]\n",
      " [0 1 0 0 0 0 0 0 0 0 0]\n",
      " [0 0 1 0 0 0 0 0 0 0 0]\n",
      " [0 0 0 1 0 0 0 0 0 0 0]\n",
      " [0 0 0 0 1 0 0 0 0 0 0]\n",
      " [0 0 0 0 0 1 0 0 0 0 0]]\n",
      "\n",
      "Composição M o M:\n",
      "\n",
      "[[1 0 0 0 0 0 0 0 0 0 0]\n",
      " [0 1 0 0 0 0 0 0 0 0 0]\n",
      " [0 0 1 0 0 0 0 0 0 0 0]\n",
      " [0 0 0 1 0 0 0 0 0 0 0]\n",
      " [0 0 0 0 1 0 0 0 0 0 0]\n",
      " [0 0 0 0 0 1 0 0 0 0 0]\n",
      " [0 0 0 0 1 0 0 0 0 0 0]\n",
      " [0 0 0 1 0 0 0 0 0 0 0]\n",
      " [0 0 1 0 0 0 0 0 0 0 0]\n",
      " [0 1 0 0 0 0 0 0 0 0 0]\n",
      " [1 0 0 0 0 0 0 0 0 0 0]]\n",
      "\n",
      "M é Transitiva? M o M = M? False\n"
     ]
    }
   ],
   "source": [
    "exercicio02()"
   ]
  },
  {
   "cell_type": "markdown",
   "metadata": {},
   "source": [
    "!['Semana 5 exercício 3'](Semana5-03.png)"
   ]
  },
  {
   "cell_type": "code",
   "execution_count": 6,
   "metadata": {},
   "outputs": [],
   "source": [
    "def exercicio03():\n",
    "    A = [0, 1, 2, 3, 4, 5]\n",
    "    \n",
    "    lenA = len(A)\n",
    "    shape = (lenA, lenA)\n",
    "    \n",
    "    R = [(a,b) for a in A for b in A if b <= a]\n",
    "    \n",
    "    M = np.zeros(shape, dtype=bool)\n",
    "    I = np.identity(lenA, dtype=bool)\n",
    "    \n",
    "    for a,b in R:\n",
    "        M[a, b] = True\n",
    "    \n",
    "    reflex = (I & M == I).all()\n",
    "    anti = ((M == M.T) == I).all()\n",
    "    trans = (M.dot(M) == M).all()\n",
    "    \n",
    "    print(f'Conjunto A:\\n\\n{A}\\n')\n",
    "    print(f'Relação R:\\n\\n{R}\\n')\n",
    "    print(f'Matriz M:\\n\\n{M.astype(int)}\\n')\n",
    "    print(f'M é Reflexiva? I está incluida em M? {reflex}')\n",
    "    print(f'M é Anti-simétrica? M é igual à Transposta apenas na diagonal? {anti}')\n",
    "    print(f'M é Transitiva? M o M = M? {trans}\\n')\n",
    "    print(f'M é uma Relação de Ordem sobre A? {reflex and anti and trans}')"
   ]
  },
  {
   "cell_type": "code",
   "execution_count": 7,
   "metadata": {},
   "outputs": [
    {
     "name": "stdout",
     "output_type": "stream",
     "text": [
      "Conjunto A:\n",
      "\n",
      "[0, 1, 2, 3, 4, 5]\n",
      "\n",
      "Relação R:\n",
      "\n",
      "[(0, 0), (1, 0), (1, 1), (2, 0), (2, 1), (2, 2), (3, 0), (3, 1), (3, 2), (3, 3), (4, 0), (4, 1), (4, 2), (4, 3), (4, 4), (5, 0), (5, 1), (5, 2), (5, 3), (5, 4), (5, 5)]\n",
      "\n",
      "Matriz M:\n",
      "\n",
      "[[1 0 0 0 0 0]\n",
      " [1 1 0 0 0 0]\n",
      " [1 1 1 0 0 0]\n",
      " [1 1 1 1 0 0]\n",
      " [1 1 1 1 1 0]\n",
      " [1 1 1 1 1 1]]\n",
      "\n",
      "M é Reflexiva? I está incluida em M? True\n",
      "M é Anti-simétrica? M é igual à Transposta apenas na diagonal? True\n",
      "M é Transitiva? M o M = M? True\n",
      "\n",
      "M é uma Relação de Ordem sobre A? True\n"
     ]
    }
   ],
   "source": [
    "exercicio03()"
   ]
  },
  {
   "cell_type": "markdown",
   "metadata": {},
   "source": [
    "!['Semana 5 exercício 4'](Semana5-04.png)"
   ]
  },
  {
   "cell_type": "code",
   "execution_count": 8,
   "metadata": {},
   "outputs": [],
   "source": [
    "def exercicio04():\n",
    "    X = [1, 2, 3, 4, 5]\n",
    "    R = [[1, 1], [1, 2], [1, 5], [2, 1], [2, 2], [2, 5], [3, 3], [3, 4], [4, 3], [4, 4], [5, 1], [5, 2], [5, 5]]\n",
    "    lenX = len(X)\n",
    "    shape = (lenX, lenX)\n",
    "    \n",
    "    M = np.zeros(shape, dtype=bool)\n",
    "    I = np.identity(lenX, dtype=bool)\n",
    "    \n",
    "    for x,y in R:\n",
    "        M[x-1, y-1] = True\n",
    "    \n",
    "    reflex = (I & M == I).all()\n",
    "    sim = (M == M.T).all()\n",
    "    trans = (M.dot(M) == M).all()\n",
    "    \n",
    "    print(f'Conjunto X:\\n\\n{X}\\n')\n",
    "    print(f'Relação R:\\n\\n{R}\\n')\n",
    "    print(f'Matriz M:\\n\\n{M.astype(int)}\\n')\n",
    "    print(f'M é Reflexiva? I está incluida em M? {reflex}')\n",
    "    print(f'M é Simétrica? M é igual à Transposta? {sim}')\n",
    "    print(f'M é Transitiva? M o M = M? {trans}\\n')\n",
    "    print(f'M é uma Relação de Equivalência? {reflex and sim and trans}')"
   ]
  },
  {
   "cell_type": "code",
   "execution_count": 9,
   "metadata": {},
   "outputs": [
    {
     "name": "stdout",
     "output_type": "stream",
     "text": [
      "Conjunto X:\n",
      "\n",
      "[1, 2, 3, 4, 5]\n",
      "\n",
      "Relação R:\n",
      "\n",
      "[[1, 1], [1, 2], [1, 5], [2, 1], [2, 2], [2, 5], [3, 3], [3, 4], [4, 3], [4, 4], [5, 1], [5, 2], [5, 5]]\n",
      "\n",
      "Matriz M:\n",
      "\n",
      "[[1 1 0 0 1]\n",
      " [1 1 0 0 1]\n",
      " [0 0 1 1 0]\n",
      " [0 0 1 1 0]\n",
      " [1 1 0 0 1]]\n",
      "\n",
      "M é Reflexiva? I está incluida em M? True\n",
      "M é Simétrica? M é igual à Transposta? True\n",
      "M é Transitiva? M o M = M? True\n",
      "\n",
      "M é uma Relação de Equivalência? True\n"
     ]
    }
   ],
   "source": [
    "exercicio04()"
   ]
  }
 ],
 "metadata": {
  "kernelspec": {
   "display_name": "Python 3",
   "language": "python",
   "name": "python3"
  },
  "language_info": {
   "codemirror_mode": {
    "name": "ipython",
    "version": 3
   },
   "file_extension": ".py",
   "mimetype": "text/x-python",
   "name": "python",
   "nbconvert_exporter": "python",
   "pygments_lexer": "ipython3",
   "version": "3.7.3"
  }
 },
 "nbformat": 4,
 "nbformat_minor": 4
}
